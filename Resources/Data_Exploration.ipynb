{
 "cells": [
  {
   "cell_type": "code",
   "execution_count": 56,
   "metadata": {},
   "outputs": [],
   "source": [
    "import matplotlib.pyplot as plt\n",
    "import pandas as pd\n",
    "import numpy as np"
   ]
  },
  {
   "cell_type": "code",
   "execution_count": 57,
   "metadata": {},
   "outputs": [],
   "source": [
    "data_file = '../Resources/Food_Production_Renamed.csv'"
   ]
  },
  {
   "cell_type": "code",
   "execution_count": 103,
   "metadata": {},
   "outputs": [],
   "source": [
    "data = pd.read_csv(data_file, low_memory = False)"
   ]
  },
  {
   "cell_type": "code",
   "execution_count": 104,
   "metadata": {},
   "outputs": [
    {
     "name": "stdout",
     "output_type": "stream",
     "text": [
      "Index(['Food product', 'Land use change', 'Animal Feed', 'Farm', 'Processing',\n",
      "       'Transport', 'Packging', 'Retail', 'Total_emissions',\n",
      "       'Eutrophying emissions per 1000kcal',\n",
      "       'Eutrophying emissions per kilogram ',\n",
      "       'Eutrophying emissions per 100g protein ',\n",
      "       'Freshwater withdrawals per 1000kcal ',\n",
      "       'Freshwater withdrawals per 100g protein ',\n",
      "       'Freshwater withdrawals per kilogram ',\n",
      "       'Greenhouse gas emissions per 1000kcal ',\n",
      "       'Greenhouse gas emissions per 100g protein ', 'Land use per 1000kcal ',\n",
      "       'Land use per kilogram ', 'Land use per 100g protein ',\n",
      "       'Scarcity-weighted water use per kilogram ',\n",
      "       'Scarcity-weighted water use per 100g protein ',\n",
      "       'Scarcity-weighted water use per 1000kcal '],\n",
      "      dtype='object')\n"
     ]
    }
   ],
   "source": [
    "print(data.columns)"
   ]
  },
  {
   "cell_type": "markdown",
   "metadata": {},
   "source": [
    "## Supply Chain"
   ]
  },
  {
   "cell_type": "code",
   "execution_count": 83,
   "metadata": {},
   "outputs": [
    {
     "data": {
      "text/html": [
       "<div>\n",
       "<style scoped>\n",
       "    .dataframe tbody tr th:only-of-type {\n",
       "        vertical-align: middle;\n",
       "    }\n",
       "\n",
       "    .dataframe tbody tr th {\n",
       "        vertical-align: top;\n",
       "    }\n",
       "\n",
       "    .dataframe thead th {\n",
       "        text-align: right;\n",
       "    }\n",
       "</style>\n",
       "<table border=\"1\" class=\"dataframe\">\n",
       "  <thead>\n",
       "    <tr style=\"text-align: right;\">\n",
       "      <th></th>\n",
       "      <th>Food product</th>\n",
       "      <th>Land use change</th>\n",
       "      <th>Animal Feed</th>\n",
       "      <th>Farm</th>\n",
       "      <th>Processing</th>\n",
       "      <th>Transport</th>\n",
       "      <th>Packging</th>\n",
       "      <th>Retail</th>\n",
       "      <th>Total_emissions</th>\n",
       "    </tr>\n",
       "  </thead>\n",
       "  <tbody>\n",
       "    <tr>\n",
       "      <th>0</th>\n",
       "      <td>Wheat &amp; Rye (Bread)</td>\n",
       "      <td>0.1</td>\n",
       "      <td>0.0</td>\n",
       "      <td>0.8</td>\n",
       "      <td>0.2</td>\n",
       "      <td>0.1</td>\n",
       "      <td>0.1</td>\n",
       "      <td>0.1</td>\n",
       "      <td>1.4</td>\n",
       "    </tr>\n",
       "    <tr>\n",
       "      <th>1</th>\n",
       "      <td>Maize (Meal)</td>\n",
       "      <td>0.3</td>\n",
       "      <td>0.0</td>\n",
       "      <td>0.5</td>\n",
       "      <td>0.1</td>\n",
       "      <td>0.1</td>\n",
       "      <td>0.1</td>\n",
       "      <td>0.0</td>\n",
       "      <td>1.1</td>\n",
       "    </tr>\n",
       "    <tr>\n",
       "      <th>2</th>\n",
       "      <td>Barley (Beer)</td>\n",
       "      <td>0.0</td>\n",
       "      <td>0.0</td>\n",
       "      <td>0.2</td>\n",
       "      <td>0.1</td>\n",
       "      <td>0.0</td>\n",
       "      <td>0.5</td>\n",
       "      <td>0.3</td>\n",
       "      <td>1.1</td>\n",
       "    </tr>\n",
       "    <tr>\n",
       "      <th>3</th>\n",
       "      <td>Oatmeal</td>\n",
       "      <td>0.0</td>\n",
       "      <td>0.0</td>\n",
       "      <td>1.4</td>\n",
       "      <td>0.0</td>\n",
       "      <td>0.1</td>\n",
       "      <td>0.1</td>\n",
       "      <td>0.0</td>\n",
       "      <td>1.6</td>\n",
       "    </tr>\n",
       "    <tr>\n",
       "      <th>4</th>\n",
       "      <td>Rice</td>\n",
       "      <td>0.0</td>\n",
       "      <td>0.0</td>\n",
       "      <td>3.6</td>\n",
       "      <td>0.1</td>\n",
       "      <td>0.1</td>\n",
       "      <td>0.1</td>\n",
       "      <td>0.1</td>\n",
       "      <td>4.0</td>\n",
       "    </tr>\n",
       "  </tbody>\n",
       "</table>\n",
       "</div>"
      ],
      "text/plain": [
       "          Food product  Land use change  Animal Feed  Farm  Processing  \\\n",
       "0  Wheat & Rye (Bread)              0.1          0.0   0.8         0.2   \n",
       "1         Maize (Meal)              0.3          0.0   0.5         0.1   \n",
       "2        Barley (Beer)              0.0          0.0   0.2         0.1   \n",
       "3              Oatmeal              0.0          0.0   1.4         0.0   \n",
       "4                 Rice              0.0          0.0   3.6         0.1   \n",
       "\n",
       "   Transport  Packging  Retail  Total_emissions  \n",
       "0        0.1       0.1     0.1              1.4  \n",
       "1        0.1       0.1     0.0              1.1  \n",
       "2        0.0       0.5     0.3              1.1  \n",
       "3        0.1       0.1     0.0              1.6  \n",
       "4        0.1       0.1     0.1              4.0  "
      ]
     },
     "execution_count": 83,
     "metadata": {},
     "output_type": "execute_result"
    }
   ],
   "source": [
    "#supply chain dataframe\n",
    "sc_df = pd.DataFrame(data[['Food product', 'Land use change', 'Animal Feed', 'Farm', \n",
    "                           'Processing', 'Transport', 'Packging', 'Retail', 'Total_emissions' ]])\n",
    "sc_df.head()"
   ]
  },
  {
   "cell_type": "code",
   "execution_count": 98,
   "metadata": {},
   "outputs": [
    {
     "data": {
      "text/plain": [
       "Food product       Wheat & Rye (Bread)Maize (Meal)Barley (Beer)Oa...\n",
       "Land use change                                                 54.2\n",
       "Animal Feed                                                     19.5\n",
       "Farm                                                           149.2\n",
       "Processing                                                      10.9\n",
       "Transport                                                        8.4\n",
       "Packging                                                        11.6\n",
       "Retail                                                             3\n",
       "Total_emissions                                                256.8\n",
       "dtype: object"
      ]
     },
     "execution_count": 98,
     "metadata": {},
     "output_type": "execute_result"
    }
   ],
   "source": [
    "#determine overall emissions per supply chain \n",
    "sc_sum = sc_df.sum()\n",
    "sc_sum"
   ]
  },
  {
   "cell_type": "markdown",
   "metadata": {},
   "source": [
    "## Eutrophying Emissions"
   ]
  },
  {
   "cell_type": "code",
   "execution_count": 85,
   "metadata": {},
   "outputs": [],
   "source": [
    "#eutrophying emissions dataframe\n",
    "ee_df = pd.DataFrame(data[['Food product','Eutrophying emissions per 1000kcal',\n",
    "       'Eutrophying emissions per kilogram ',\n",
    "       'Eutrophying emissions per 100g protein ']])"
   ]
  },
  {
   "cell_type": "code",
   "execution_count": 99,
   "metadata": {},
   "outputs": [
    {
     "data": {
      "text/html": [
       "<div>\n",
       "<style scoped>\n",
       "    .dataframe tbody tr th:only-of-type {\n",
       "        vertical-align: middle;\n",
       "    }\n",
       "\n",
       "    .dataframe tbody tr th {\n",
       "        vertical-align: top;\n",
       "    }\n",
       "\n",
       "    .dataframe thead th {\n",
       "        text-align: right;\n",
       "    }\n",
       "</style>\n",
       "<table border=\"1\" class=\"dataframe\">\n",
       "  <thead>\n",
       "    <tr style=\"text-align: right;\">\n",
       "      <th></th>\n",
       "      <th>Food product</th>\n",
       "      <th>Eutrophying emissions per 1000kcal</th>\n",
       "      <th>Eutrophying emissions per kilogram</th>\n",
       "      <th>Eutrophying emissions per 100g protein</th>\n",
       "    </tr>\n",
       "  </thead>\n",
       "  <tbody>\n",
       "    <tr>\n",
       "      <th>0</th>\n",
       "      <td>Wheat &amp; Rye (Bread)</td>\n",
       "      <td>NaN</td>\n",
       "      <td>NaN</td>\n",
       "      <td>NaN</td>\n",
       "    </tr>\n",
       "    <tr>\n",
       "      <th>1</th>\n",
       "      <td>Maize (Meal)</td>\n",
       "      <td>NaN</td>\n",
       "      <td>NaN</td>\n",
       "      <td>NaN</td>\n",
       "    </tr>\n",
       "    <tr>\n",
       "      <th>2</th>\n",
       "      <td>Barley (Beer)</td>\n",
       "      <td>NaN</td>\n",
       "      <td>NaN</td>\n",
       "      <td>NaN</td>\n",
       "    </tr>\n",
       "    <tr>\n",
       "      <th>3</th>\n",
       "      <td>Oatmeal</td>\n",
       "      <td>4.281357</td>\n",
       "      <td>11.23</td>\n",
       "      <td>8.638462</td>\n",
       "    </tr>\n",
       "    <tr>\n",
       "      <th>4</th>\n",
       "      <td>Rice</td>\n",
       "      <td>9.514379</td>\n",
       "      <td>35.07</td>\n",
       "      <td>49.394366</td>\n",
       "    </tr>\n",
       "  </tbody>\n",
       "</table>\n",
       "</div>"
      ],
      "text/plain": [
       "          Food product  Eutrophying emissions per 1000kcal  \\\n",
       "0  Wheat & Rye (Bread)                                 NaN   \n",
       "1         Maize (Meal)                                 NaN   \n",
       "2        Barley (Beer)                                 NaN   \n",
       "3              Oatmeal                            4.281357   \n",
       "4                 Rice                            9.514379   \n",
       "\n",
       "   Eutrophying emissions per kilogram   \\\n",
       "0                                  NaN   \n",
       "1                                  NaN   \n",
       "2                                  NaN   \n",
       "3                                11.23   \n",
       "4                                35.07   \n",
       "\n",
       "   Eutrophying emissions per 100g protein   \n",
       "0                                      NaN  \n",
       "1                                      NaN  \n",
       "2                                      NaN  \n",
       "3                                 8.638462  \n",
       "4                                49.394366  "
      ]
     },
     "execution_count": 99,
     "metadata": {},
     "output_type": "execute_result"
    }
   ],
   "source": [
    "# View the first five rows of data\n",
    "ee_df.head()"
   ]
  },
  {
   "cell_type": "code",
   "execution_count": 105,
   "metadata": {},
   "outputs": [
    {
     "data": {
      "text/html": [
       "<div>\n",
       "<style scoped>\n",
       "    .dataframe tbody tr th:only-of-type {\n",
       "        vertical-align: middle;\n",
       "    }\n",
       "\n",
       "    .dataframe tbody tr th {\n",
       "        vertical-align: top;\n",
       "    }\n",
       "\n",
       "    .dataframe thead th {\n",
       "        text-align: right;\n",
       "    }\n",
       "</style>\n",
       "<table border=\"1\" class=\"dataframe\">\n",
       "  <thead>\n",
       "    <tr style=\"text-align: right;\">\n",
       "      <th></th>\n",
       "      <th>Food product</th>\n",
       "      <th>Eutrophying emissions per 1000kcal</th>\n",
       "      <th>Eutrophying emissions per kilogram</th>\n",
       "      <th>Eutrophying emissions per 100g protein</th>\n",
       "    </tr>\n",
       "  </thead>\n",
       "  <tbody>\n",
       "    <tr>\n",
       "      <th>3</th>\n",
       "      <td>Oatmeal</td>\n",
       "      <td>4.281357</td>\n",
       "      <td>11.23</td>\n",
       "      <td>8.638462</td>\n",
       "    </tr>\n",
       "    <tr>\n",
       "      <th>4</th>\n",
       "      <td>Rice</td>\n",
       "      <td>9.514379</td>\n",
       "      <td>35.07</td>\n",
       "      <td>49.394366</td>\n",
       "    </tr>\n",
       "    <tr>\n",
       "      <th>5</th>\n",
       "      <td>Potatoes</td>\n",
       "      <td>4.754098</td>\n",
       "      <td>3.48</td>\n",
       "      <td>20.470588</td>\n",
       "    </tr>\n",
       "    <tr>\n",
       "      <th>6</th>\n",
       "      <td>Cassava</td>\n",
       "      <td>0.708419</td>\n",
       "      <td>0.69</td>\n",
       "      <td>7.666667</td>\n",
       "    </tr>\n",
       "    <tr>\n",
       "      <th>9</th>\n",
       "      <td>Other Pulses</td>\n",
       "      <td>5.008798</td>\n",
       "      <td>17.08</td>\n",
       "      <td>7.977581</td>\n",
       "    </tr>\n",
       "    <tr>\n",
       "      <th>10</th>\n",
       "      <td>Peas</td>\n",
       "      <td>2.173410</td>\n",
       "      <td>7.52</td>\n",
       "      <td>3.384338</td>\n",
       "    </tr>\n",
       "    <tr>\n",
       "      <th>11</th>\n",
       "      <td>Nuts</td>\n",
       "      <td>3.113821</td>\n",
       "      <td>19.15</td>\n",
       "      <td>11.726883</td>\n",
       "    </tr>\n",
       "    <tr>\n",
       "      <th>12</th>\n",
       "      <td>Groundnuts</td>\n",
       "      <td>2.437931</td>\n",
       "      <td>14.14</td>\n",
       "      <td>5.401070</td>\n",
       "    </tr>\n",
       "    <tr>\n",
       "      <th>20</th>\n",
       "      <td>Tomatoes</td>\n",
       "      <td>39.526316</td>\n",
       "      <td>7.51</td>\n",
       "      <td>68.272727</td>\n",
       "    </tr>\n",
       "    <tr>\n",
       "      <th>21</th>\n",
       "      <td>Onions &amp; Leeks</td>\n",
       "      <td>8.756757</td>\n",
       "      <td>3.24</td>\n",
       "      <td>24.923077</td>\n",
       "    </tr>\n",
       "  </tbody>\n",
       "</table>\n",
       "</div>"
      ],
      "text/plain": [
       "      Food product  Eutrophying emissions per 1000kcal  \\\n",
       "3          Oatmeal                            4.281357   \n",
       "4             Rice                            9.514379   \n",
       "5         Potatoes                            4.754098   \n",
       "6          Cassava                            0.708419   \n",
       "9     Other Pulses                            5.008798   \n",
       "10            Peas                            2.173410   \n",
       "11            Nuts                            3.113821   \n",
       "12      Groundnuts                            2.437931   \n",
       "20        Tomatoes                           39.526316   \n",
       "21  Onions & Leeks                            8.756757   \n",
       "\n",
       "    Eutrophying emissions per kilogram   \\\n",
       "3                                 11.23   \n",
       "4                                 35.07   \n",
       "5                                  3.48   \n",
       "6                                  0.69   \n",
       "9                                 17.08   \n",
       "10                                 7.52   \n",
       "11                                19.15   \n",
       "12                                14.14   \n",
       "20                                 7.51   \n",
       "21                                 3.24   \n",
       "\n",
       "    Eutrophying emissions per 100g protein   \n",
       "3                                  8.638462  \n",
       "4                                 49.394366  \n",
       "5                                 20.470588  \n",
       "6                                  7.666667  \n",
       "9                                  7.977581  \n",
       "10                                 3.384338  \n",
       "11                                11.726883  \n",
       "12                                 5.401070  \n",
       "20                                68.272727  \n",
       "21                                24.923077  "
      ]
     },
     "execution_count": 105,
     "metadata": {},
     "output_type": "execute_result"
    }
   ],
   "source": [
    "# Drop null values\n",
    "dropped_ee = ee_df.dropna()\n",
    "dropped_ee.head(10)"
   ]
  },
  {
   "cell_type": "code",
   "execution_count": null,
   "metadata": {},
   "outputs": [],
   "source": [
    "#Determine which foods are the highest and which are the lowest in each category"
   ]
  },
  {
   "cell_type": "code",
   "execution_count": null,
   "metadata": {},
   "outputs": [],
   "source": []
  },
  {
   "cell_type": "markdown",
   "metadata": {},
   "source": [
    "## Freshwater Withdrawals"
   ]
  },
  {
   "cell_type": "code",
   "execution_count": null,
   "metadata": {},
   "outputs": [],
   "source": [
    "#Determine which foods are the highest and which are the lowest in each category"
   ]
  },
  {
   "cell_type": "code",
   "execution_count": null,
   "metadata": {},
   "outputs": [],
   "source": []
  },
  {
   "cell_type": "markdown",
   "metadata": {},
   "source": [
    "## Greenhouse Gas Emissions"
   ]
  },
  {
   "cell_type": "code",
   "execution_count": null,
   "metadata": {},
   "outputs": [],
   "source": [
    "#Determine which foods are the highest and which are the lowest in each category"
   ]
  },
  {
   "cell_type": "code",
   "execution_count": null,
   "metadata": {},
   "outputs": [],
   "source": []
  },
  {
   "cell_type": "markdown",
   "metadata": {},
   "source": [
    "## Land Use"
   ]
  },
  {
   "cell_type": "code",
   "execution_count": null,
   "metadata": {},
   "outputs": [],
   "source": [
    "#Determine which foods are the highest and which are the lowest in each category"
   ]
  },
  {
   "cell_type": "code",
   "execution_count": null,
   "metadata": {},
   "outputs": [],
   "source": []
  },
  {
   "cell_type": "markdown",
   "metadata": {},
   "source": [
    "## Scarcity-Weighted Water"
   ]
  },
  {
   "cell_type": "code",
   "execution_count": null,
   "metadata": {},
   "outputs": [],
   "source": [
    "#Determine which foods are the highest and which are the lowest in each category"
   ]
  },
  {
   "cell_type": "code",
   "execution_count": null,
   "metadata": {},
   "outputs": [],
   "source": []
  },
  {
   "cell_type": "code",
   "execution_count": null,
   "metadata": {},
   "outputs": [],
   "source": []
  },
  {
   "cell_type": "code",
   "execution_count": null,
   "metadata": {},
   "outputs": [],
   "source": []
  },
  {
   "cell_type": "code",
   "execution_count": null,
   "metadata": {},
   "outputs": [],
   "source": []
  },
  {
   "cell_type": "code",
   "execution_count": null,
   "metadata": {},
   "outputs": [],
   "source": []
  },
  {
   "cell_type": "code",
   "execution_count": null,
   "metadata": {},
   "outputs": [],
   "source": []
  },
  {
   "cell_type": "code",
   "execution_count": null,
   "metadata": {},
   "outputs": [],
   "source": []
  }
 ],
 "metadata": {
  "kernelspec": {
   "display_name": "Python 3",
   "language": "python",
   "name": "python3"
  },
  "language_info": {
   "codemirror_mode": {
    "name": "ipython",
    "version": 3
   },
   "file_extension": ".py",
   "mimetype": "text/x-python",
   "name": "python",
   "nbconvert_exporter": "python",
   "pygments_lexer": "ipython3",
   "version": "3.8.3"
  }
 },
 "nbformat": 4,
 "nbformat_minor": 4
}
