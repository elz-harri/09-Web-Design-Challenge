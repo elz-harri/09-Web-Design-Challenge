{
 "cells": [
  {
   "cell_type": "code",
   "execution_count": 4,
   "metadata": {},
   "outputs": [],
   "source": [
    "import pandas as pd\n",
    "from pandas import Series, DataFrame\n",
    "import json\n",
    "import csv"
   ]
  },
  {
   "cell_type": "markdown",
   "metadata": {},
   "source": [
    "## YourLibrary"
   ]
  },
  {
   "cell_type": "code",
   "execution_count": 5,
   "metadata": {},
   "outputs": [],
   "source": [
    "# open provided JSON file\n",
    "with open ('YourLibrary.json') as json_file:\n",
    "    data = json.load(json_file)   "
   ]
  },
  {
   "cell_type": "code",
   "execution_count": 6,
   "metadata": {},
   "outputs": [],
   "source": [
    "jen_library = data['tracks']"
   ]
  },
  {
   "cell_type": "code",
   "execution_count": 7,
   "metadata": {},
   "outputs": [],
   "source": [
    "jenlibrary_csv = open('jenlibrary.csv', 'w')"
   ]
  },
  {
   "cell_type": "code",
   "execution_count": 8,
   "metadata": {},
   "outputs": [],
   "source": [
    "csv_writer = csv.writer(jenlibrary_csv)"
   ]
  },
  {
   "cell_type": "code",
   "execution_count": 9,
   "metadata": {},
   "outputs": [],
   "source": [
    "count = 0"
   ]
  },
  {
   "cell_type": "code",
   "execution_count": 10,
   "metadata": {},
   "outputs": [],
   "source": [
    "for tracks in jen_library:\n",
    "    if count == 0:\n",
    "        header = tracks.keys()\n",
    "        csv_writer.writerow(header)\n",
    "        count += 1\n",
    "    csv_writer.writerow(tracks.values())\n",
    "    \n",
    "jenlibrary_csv.close()   "
   ]
  },
  {
   "cell_type": "code",
   "execution_count": 11,
   "metadata": {},
   "outputs": [],
   "source": [
    "csv_path = 'jenlibrary.csv'"
   ]
  },
  {
   "cell_type": "code",
   "execution_count": 12,
   "metadata": {},
   "outputs": [],
   "source": [
    "jl_df = pd.read_csv(csv_path)"
   ]
  },
  {
   "cell_type": "code",
   "execution_count": 13,
   "metadata": {},
   "outputs": [
    {
     "name": "stdout",
     "output_type": "stream",
     "text": [
      "<class 'pandas.core.frame.DataFrame'>\n",
      "RangeIndex: 454 entries, 0 to 453\n",
      "Data columns (total 3 columns):\n",
      " #   Column  Non-Null Count  Dtype \n",
      "---  ------  --------------  ----- \n",
      " 0   artist  454 non-null    object\n",
      " 1   album   454 non-null    object\n",
      " 2   track   454 non-null    object\n",
      "dtypes: object(3)\n",
      "memory usage: 10.8+ KB\n"
     ]
    }
   ],
   "source": [
    "jl_df.info()"
   ]
  },
  {
   "cell_type": "code",
   "execution_count": 14,
   "metadata": {},
   "outputs": [
    {
     "data": {
      "text/html": [
       "<div>\n",
       "<style scoped>\n",
       "    .dataframe tbody tr th:only-of-type {\n",
       "        vertical-align: middle;\n",
       "    }\n",
       "\n",
       "    .dataframe tbody tr th {\n",
       "        vertical-align: top;\n",
       "    }\n",
       "\n",
       "    .dataframe thead th {\n",
       "        text-align: right;\n",
       "    }\n",
       "</style>\n",
       "<table border=\"1\" class=\"dataframe\">\n",
       "  <thead>\n",
       "    <tr style=\"text-align: right;\">\n",
       "      <th></th>\n",
       "      <th>artist</th>\n",
       "      <th>album</th>\n",
       "      <th>track</th>\n",
       "    </tr>\n",
       "  </thead>\n",
       "  <tbody>\n",
       "    <tr>\n",
       "      <th>0</th>\n",
       "      <td>Mitski</td>\n",
       "      <td>Bury Me At Makeout Creek</td>\n",
       "      <td>I Will</td>\n",
       "    </tr>\n",
       "    <tr>\n",
       "      <th>1</th>\n",
       "      <td>Tori Amos</td>\n",
       "      <td>The Light Princess</td>\n",
       "      <td>Coronation</td>\n",
       "    </tr>\n",
       "    <tr>\n",
       "      <th>2</th>\n",
       "      <td>Björk</td>\n",
       "      <td>Vulnicura Strings (Vulnicura: The Acoustic Ver...</td>\n",
       "      <td>Family</td>\n",
       "    </tr>\n",
       "    <tr>\n",
       "      <th>3</th>\n",
       "      <td>The Family Party Song Singers</td>\n",
       "      <td>Let's Celebrate the Day of Your Birth!</td>\n",
       "      <td>Happy Birthday Jen</td>\n",
       "    </tr>\n",
       "    <tr>\n",
       "      <th>4</th>\n",
       "      <td>Jidenna</td>\n",
       "      <td>The Let Out (feat. Quavo)</td>\n",
       "      <td>The Let Out (feat. Quavo)</td>\n",
       "    </tr>\n",
       "  </tbody>\n",
       "</table>\n",
       "</div>"
      ],
      "text/plain": [
       "                          artist  \\\n",
       "0                         Mitski   \n",
       "1                      Tori Amos   \n",
       "2                          Björk   \n",
       "3  The Family Party Song Singers   \n",
       "4                        Jidenna   \n",
       "\n",
       "                                               album  \\\n",
       "0                           Bury Me At Makeout Creek   \n",
       "1                                 The Light Princess   \n",
       "2  Vulnicura Strings (Vulnicura: The Acoustic Ver...   \n",
       "3             Let's Celebrate the Day of Your Birth!   \n",
       "4                          The Let Out (feat. Quavo)   \n",
       "\n",
       "                       track  \n",
       "0                     I Will  \n",
       "1                 Coronation  \n",
       "2                     Family  \n",
       "3         Happy Birthday Jen  \n",
       "4  The Let Out (feat. Quavo)  "
      ]
     },
     "execution_count": 14,
     "metadata": {},
     "output_type": "execute_result"
    }
   ],
   "source": [
    "jl_df.head()"
   ]
  },
  {
   "cell_type": "code",
   "execution_count": 15,
   "metadata": {},
   "outputs": [
    {
     "data": {
      "text/plain": [
       "85"
      ]
     },
     "execution_count": 15,
     "metadata": {},
     "output_type": "execute_result"
    }
   ],
   "source": [
    "unique_artist_df = len((jl_df['artist']).unique())\n",
    "unique_artist_df"
   ]
  },
  {
   "cell_type": "markdown",
   "metadata": {},
   "source": [
    "# Follow "
   ]
  },
  {
   "cell_type": "code",
   "execution_count": 70,
   "metadata": {},
   "outputs": [],
   "source": [
    "# create a Series from the JSON dictionary\n",
    "\n",
    "jen_artists = [\"Angel Haze\",\n",
    "    \"Ani DiFranco\",\n",
    "    \"Beyoncé\",\n",
    "    \"Björk\",\n",
    "    \"Braid\",\n",
    "    \"Ciara\",\n",
    "    \"Coconut Records\",\n",
    "    \"David Byrne\",\n",
    "    \"Destiny's Child\",\n",
    "    \"Elliott Smith\",\n",
    "    \"Erykah Badu\",\n",
    "    \"FKA twigs\",\n",
    "    \"Fiona Apple\",\n",
    "    \"First Aid Kit\",\n",
    "    \"Florence + The Machine\",\n",
    "    \"Foxing\",\n",
    "    \"Girlpool\",\n",
    "    \"Glass Animals\",\n",
    "    \"Handsome Boy Modeling School\",\n",
    "    \"Immortal Technique\",\n",
    "    \"KOLARS\",\n",
    "    \"Kelly Howell\",\n",
    "    \"Kid Sister\",\n",
    "    \"Los Zafiros\",\n",
    "    \"Madame Gandhi\",\n",
    "    \"Maliibu N Helene\",\n",
    "    \"Marian Hill\",\n",
    "    \"Ms. Lauryn Hill\",\n",
    "    \"Murder By Death\",\n",
    "    \"Peggy Sue\",\n",
    "    \"Sarah Silverman\",\n",
    "    \"Sean Ono Lennon\",\n",
    "    \"Shenandoah Davis\",\n",
    "    \"Stevie Ray Vaughan\",\n",
    "    \"Tacocat\",\n",
    "    \"The Blow\",\n",
    "    \"The Rural Alberta Advantage\",\n",
    "    \"Wye Oak\",\n",
    "    \"iAmMoshow\"]"
   ]
  },
  {
   "cell_type": "code",
   "execution_count": 72,
   "metadata": {},
   "outputs": [
    {
     "data": {
      "text/plain": [
       "39"
      ]
     },
     "execution_count": 72,
     "metadata": {},
     "output_type": "execute_result"
    }
   ],
   "source": [
    "len(jen_artists)"
   ]
  },
  {
   "cell_type": "code",
   "execution_count": 92,
   "metadata": {},
   "outputs": [],
   "source": [
    "liz_artists = [\"2 Chainz\",\n",
    "    \"9th Wonder\",\n",
    "    \"A$AP Ferg\",\n",
    "    \"Aaron Lacrate\",\n",
    "    \"Ab-Soul\",\n",
    "    \"Action Bronson\",\n",
    "    \"Agent Orange\",\n",
    "    \"Atmosphere\",\n",
    "    \"Awon\",\n",
    "    \"Baby Baby\",\n",
    "    \"Bay Ledges\",\n",
    "    \"Beck\",\n",
    "    \"Benoit & Sergio\",\n",
    "    \"Beth Hart\",\n",
    "    \"Big Freedia\",\n",
    "    \"Big K.R.I.T.\",\n",
    "    \"Big Wild\",\n",
    "    \"Billy Vaughn\",\n",
    "    \"Black Hippy\",\n",
    "    \"Black Milk\",\n",
    "    \"Black Sheep\",\n",
    "    \"Black Star\",\n",
    "    \"Boogie Down Productions\",\n",
    "    \"Brillz\",\n",
    "    \"Buena Vista Social Club\",\n",
    "    \"Buzzcocks\",\n",
    "    \"Camp Lo\",\n",
    "    \"Canned Heat\",\n",
    "    \"Charlotte Dos Santos\",\n",
    "    \"Chris Brown\",\n",
    "    \"Chuck Berry\",\n",
    "    \"Club des Belugas\",\n",
    "    \"Cunninlynguists\",\n",
    "    \"Cyanca\",\n",
    "    \"DJ Premier\",\n",
    "    \"Danny Brown\",\n",
    "    \"Del The Funky Homosapien\",\n",
    "    \"Dimitri Vegas & Like Mike\",\n",
    "    \"Diplo\",\n",
    "    \"Diplo feat. Nicky Da B\",\n",
    "    \"Dirty Honkers\",\n",
    "    \"Dirty Projectors\",\n",
    "    \"Disclosure\",\n",
    "    \"Dusty Springfield\",\n",
    "    \"EARTHGANG\",\n",
    "    \"Eddie 9V\",\n",
    "    \"El-P\",\n",
    "    \"Elzhi\",\n",
    "    \"Eric B. & Rakim\",\n",
    "    \"Freddie Gibbs\",\n",
    "    \"Georges Prêtre\",\n",
    "    \"Ghostface Killah\",\n",
    "    \"Goodie Mob\",\n",
    "    \"Has-Lo\",\n",
    "    \"Isaiah Rashad\",\n",
    "    \"J-Live\",\n",
    "    \"Jay Electronica\",\n",
    "    \"Jaylib\",\n",
    "    \"Jean-Paul Vauquelin\",\n",
    "    \"Juana Molina\",\n",
    "    \"Jurassic 5\",\n",
    "    \"Kadhja Bonet\",\n",
    "    \"Kairo Kingdom\",\n",
    "    \"Kanye West\",\n",
    "    \"Kendrick Lamar\",\n",
    "    \"Kev Brown\",\n",
    "    \"Khruangbin\",\n",
    "    \"Kid Cudi\",\n",
    "    \"King Khan and the Shrines\",\n",
    "    \"King Krule\",\n",
    "    \"Kool Keith\",\n",
    "    \"L'Orange\",\n",
    "    \"LCD Soundsystem\",\n",
    "    \"LL Cool J\",\n",
    "    \"Led Zeppelin\",\n",
    "    \"Leon Bridges\",\n",
    "    \"London Philharmonic Orchestra\",\n",
    "    \"Los Tigres Del Norte\",\n",
    "    \"Los Zafiros\",\n",
    "    \"Louis XIV\",\n",
    "    \"Mac Miller\",\n",
    "    \"Madlib\",\n",
    "    \"Master P\",\n",
    "    \"Micachu & The Shapes\",\n",
    "    \"Mickey Avalon\",\n",
    "    \"Miike Snow\",\n",
    "    \"Minor Threat\",\n",
    "    \"Missy Elliott\",\n",
    "    \"Monguito \\\"El Único\\\" Santamaría\",\n",
    "    \"Mr. Oizo\",\n",
    "    \"Neil Young\",\n",
    "    \"Night Beats\",\n",
    "    \"Ol' Dirty Bastard\",\n",
    "    \"Paul Simon\",\n",
    "    \"Peanut Butter Wolf\",\n",
    "    \"Peggy Gou\",\n",
    "    \"Plastic Little\",\n",
    "    \"Pretty Lights\",\n",
    "    \"Quasimoto\",\n",
    "    \"Rancid\",\n",
    "    \"Rappin' 4-Tay\",\n",
    "    \"Roman GianArthur\",\n",
    "    \"Sallie Ford & The Sound Outside\",\n",
    "    \"Scott H. Biram\",\n",
    "    \"Serena Isioma\",\n",
    "    \"Sharon Jones & The Dap-Kings\",\n",
    "    \"Soom T\",\n",
    "    \"Spank Rock\",\n",
    "    \"T. Rex\",\n",
    "    \"Talking Heads\",\n",
    "    \"Tank and The Bangas\",\n",
    "    \"Tanlines\",\n",
    "    \"The Aikiu\",\n",
    "    \"The Cave Singers\",\n",
    "    \"The Clash\",\n",
    "    \"The Coasters\",\n",
    "    \"The Coathangers\",\n",
    "    \"The Cool Kids\",\n",
    "    \"The Cult\",\n",
    "    \"The Dead Milkmen\",\n",
    "    \"The Doppelgangaz\",\n",
    "    \"The Electric Swing Circus\",\n",
    "    \"The Herbaliser\",\n",
    "    \"The King Khan & BBQ Show\",\n",
    "    \"The Libertines\",\n",
    "    \"The Orchestra of the Khmer Classical Dance Troupe\",\n",
    "    \"The Paradise Bangkok Molam International Band\",\n",
    "    \"The Roots\",\n",
    "    \"The Stone Roses\",\n",
    "    \"Thievery Corporation\",\n",
    "    \"Thunderheist\",\n",
    "    \"Tiff the Gift\",\n",
    "    \"Trick Daddy\",\n",
    "    \"Ty Segall\",\n",
    "    \"Tyler, The Creator\",\n",
    "    \"UNKLE\",\n",
    "    \"Unknown Mortal Orchestra\",\n",
    "    \"Wale\",\n",
    "    \"Walter Gieseking\",\n",
    "    \"War\",\n",
    "    \"Weyes Blood\",\n",
    "    \"Willy Joy\",\n",
    "    \"Yeah Yeah Yeahs\",\n",
    "    \"Yelawolf\",\n",
    "    \"Yol Aularong\",\n",
    "    \"boylife\"]\n"
   ]
  },
  {
   "cell_type": "code",
   "execution_count": 77,
   "metadata": {},
   "outputs": [
    {
     "data": {
      "text/plain": [
       "146"
      ]
     },
     "execution_count": 77,
     "metadata": {},
     "output_type": "execute_result"
    }
   ],
   "source": [
    "len(liz_artists)"
   ]
  },
  {
   "cell_type": "code",
   "execution_count": 91,
   "metadata": {},
   "outputs": [],
   "source": [
    "rob_artists = [\"Abram Shook\",\n",
    "    \"Actual Magic\",\n",
    "    \"Alabaster DePlume\",\n",
    "    \"Alex Ebert\",\n",
    "    \"Anderson .Paak\",\n",
    "    \"Andy Shauf\",\n",
    "    \"Astronauts, etc.\",\n",
    "    \"BADBADNOTGOOD\",\n",
    "    \"Bardo Martinez\",\n",
    "    \"Beirut\",\n",
    "    \"Bells Atlas\",\n",
    "    \"Bibio\",\n",
    "    \"Blockhead\",\n",
    "    \"Blue Material\",\n",
    "    \"Bobby Oroza\",\n",
    "    \"Bonobo\",\n",
    "    \"Brainstory\",\n",
    "    \"Brendan Eder Ensemble\",\n",
    "    \"Chaz Bundick Meets The Mattson 2\",\n",
    "    \"Chicano Batman\",\n",
    "    \"Chris Bear\",\n",
    "    \"Chrome Sparks\",\n",
    "    \"Cotton Jones\",\n",
    "    \"Cristobal And The Sea\",\n",
    "    \"Dirty Art Club\",\n",
    "    \"Elder Island\",\n",
    "    \"Family Time\",\n",
    "    \"Fantasy Guys\",\n",
    "    \"Febueder\",\n",
    "    \"Felbm\",\n",
    "    \"Fleet Foxes\",\n",
    "    \"Freddie Joachim\",\n",
    "    \"Ginger Root\",\n",
    "    \"Girls\",\n",
    "    \"Gold Celeste\",\n",
    "    \"Holy Hive\",\n",
    "    \"JAY-Z\",\n",
    "    \"Jerry Paper\",\n",
    "    \"Jitwam\",\n",
    "    \"Joey Dosik\",\n",
    "    \"John Mayer\",\n",
    "    \"John Wizards\",\n",
    "    \"Joon Moon\",\n",
    "    \"Kadhja Bonet\",\n",
    "    \"Kelly Finnigan\",\n",
    "    \"Kendrick Lamar\",\n",
    "    \"Kikagaku Moyo\",\n",
    "    \"King Gizzard & The Lizard Wizard\",\n",
    "    \"Kings of Convenience\",\n",
    "    \"Kurt Vile\",\n",
    "    \"Little Tybee\",\n",
    "    \"M. Ward\",\n",
    "    \"MGMT\",\n",
    "    \"Makaya McCraven\",\n",
    "    \"Mesquite\",\n",
    "    \"Michael Nau\",\n",
    "    \"Mick Jenkins\",\n",
    "    \"Mocky\",\n",
    "    \"Monster Rally\",\n",
    "    \"Mr Twin Sister\",\n",
    "    \"N.E.R.D\",\n",
    "    \"Nick Hakim\",\n",
    "    \"Nick Waterhouse\",\n",
    "    \"Noya Rao\",\n",
    "    \"Okonkolo\",\n",
    "    \"Oracle Sisters\",\n",
    "    \"Palace\",\n",
    "    \"Pharrell Williams\",\n",
    "    \"Pink Siifu\",\n",
    "    \"Portico Quartet\",\n",
    "    \"Pusha T\",\n",
    "    \"Real Estate\",\n",
    "    \"Redspencer\",\n",
    "    \"Run The Jewels\",\n",
    "    \"SZA\",\n",
    "    \"SiR\",\n",
    "    \"Simpson\",\n",
    "    \"Skinshape\",\n",
    "    \"Sly5thAve\",\n",
    "    \"Stan Getz\",\n",
    "    \"Syd\",\n",
    "    \"The Antlers\",\n",
    "    \"The Cactus Channel\",\n",
    "    \"The Decemberists\",\n",
    "    \"The Flying Stars Of Brooklyn NY\",\n",
    "    \"The Internet\",\n",
    "    \"The Olympians\",\n",
    "    \"The Sha La Das\",\n",
    "    \"Thundercat\",\n",
    "    \"Tony Peppers\",\n",
    "    \"Toro y Moi\",\n",
    "    \"Travis Scott\",\n",
    "    \"Vanilla\",\n",
    "    \"Vetiver\",\n",
    "    \"Washed Out\",\n",
    "    \"Wild Beasts\",\n",
    "    \"Wild Nothing\",\n",
    "    \"Wilma Archer\",\n",
    "    \"Woods\",\n",
    "    \"bLAck pARty\",\n",
    "    \"emune\",\n",
    "    \"h hunt\"]\n"
   ]
  },
  {
   "cell_type": "code",
   "execution_count": 79,
   "metadata": {},
   "outputs": [
    {
     "data": {
      "text/plain": [
       "102"
      ]
     },
     "execution_count": 79,
     "metadata": {},
     "output_type": "execute_result"
    }
   ],
   "source": [
    "len(rob_artists)"
   ]
  },
  {
   "cell_type": "code",
   "execution_count": 89,
   "metadata": {},
   "outputs": [],
   "source": [
    "#turn lists into sets for comparisons\n",
    "jen_set = set(jen_artists)\n",
    "liz_set = set(liz_artists)\n",
    "rob_set = set(rob_artists)"
   ]
  },
  {
   "cell_type": "code",
   "execution_count": 90,
   "metadata": {},
   "outputs": [
    {
     "data": {
      "text/plain": [
       "{'Los Zafiros'}"
      ]
     },
     "execution_count": 90,
     "metadata": {},
     "output_type": "execute_result"
    }
   ],
   "source": [
    "#see if jen and liz folllow any common artists\n",
    "jen_set & liz_set "
   ]
  },
  {
   "cell_type": "code",
   "execution_count": 82,
   "metadata": {},
   "outputs": [
    {
     "data": {
      "text/plain": [
       "{'Kadhja Bonet', 'Kendrick Lamar'}"
      ]
     },
     "execution_count": 82,
     "metadata": {},
     "output_type": "execute_result"
    }
   ],
   "source": [
    "#see if liz and rob follow any common artists\n",
    "liz_set & rob_set"
   ]
  },
  {
   "cell_type": "code",
   "execution_count": 83,
   "metadata": {},
   "outputs": [
    {
     "data": {
      "text/plain": [
       "set()"
      ]
     },
     "execution_count": 83,
     "metadata": {},
     "output_type": "execute_result"
    }
   ],
   "source": [
    "#see if jen and rob follow any common artists\n",
    "rob_set & jen_set"
   ]
  },
  {
   "cell_type": "code",
   "execution_count": 84,
   "metadata": {},
   "outputs": [],
   "source": [
    "a = [1, 2, 3, 4, 5] \n",
    "b = [5, 6, 7, 8, 9]"
   ]
  },
  {
   "cell_type": "code",
   "execution_count": 85,
   "metadata": {},
   "outputs": [],
   "source": [
    "a_set = set(a)\n",
    "b_set = set(b)"
   ]
  },
  {
   "cell_type": "code",
   "execution_count": 86,
   "metadata": {},
   "outputs": [
    {
     "data": {
      "text/plain": [
       "{5}"
      ]
     },
     "execution_count": 86,
     "metadata": {},
     "output_type": "execute_result"
    }
   ],
   "source": [
    "a_set & b_set"
   ]
  },
  {
   "cell_type": "code",
   "execution_count": null,
   "metadata": {},
   "outputs": [],
   "source": []
  },
  {
   "cell_type": "code",
   "execution_count": null,
   "metadata": {},
   "outputs": [],
   "source": []
  },
  {
   "cell_type": "code",
   "execution_count": null,
   "metadata": {},
   "outputs": [],
   "source": []
  },
  {
   "cell_type": "code",
   "execution_count": null,
   "metadata": {},
   "outputs": [],
   "source": []
  }
 ],
 "metadata": {
  "kernelspec": {
   "display_name": "Python 3",
   "language": "python",
   "name": "python3"
  },
  "language_info": {
   "codemirror_mode": {
    "name": "ipython",
    "version": 3
   },
   "file_extension": ".py",
   "mimetype": "text/x-python",
   "name": "python",
   "nbconvert_exporter": "python",
   "pygments_lexer": "ipython3",
   "version": "3.8.3"
  }
 },
 "nbformat": 4,
 "nbformat_minor": 4
}
